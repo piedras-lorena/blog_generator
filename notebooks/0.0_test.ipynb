{
 "cells": [
  {
   "cell_type": "code",
   "execution_count": 1,
   "metadata": {},
   "outputs": [
    {
     "data": {
      "text/plain": [
       "True"
      ]
     },
     "execution_count": 1,
     "metadata": {},
     "output_type": "execute_result"
    }
   ],
   "source": [
    "from langchain.llms import OpenAI\n",
    "from langchain.chat_models import ChatOpenAI\n",
    "from langchain import PromptTemplate, HuggingFaceHub, LLMChain\n",
    "from langchain.document_loaders import UnstructuredURLLoader\n",
    "from langchain.text_splitter import CharacterTextSplitter\n",
    "import dotenv\n",
    "from os import environ\n",
    "\n",
    "# Importing env variables from .env file\n",
    "env_file = '../.env'\n",
    "dotenv.load_dotenv(env_file, override=True)"
   ]
  },
  {
   "cell_type": "code",
   "execution_count": 2,
   "metadata": {},
   "outputs": [],
   "source": [
    "from langchain.document_loaders import UnstructuredURLLoader\n",
    "from langchain.docstore.document import Document\n",
    "from langchain.text_splitter import CharacterTextSplitter\n",
    "from langchain.chat_models import ChatOpenAI\n",
    "from langchain.chains.summarize import load_summarize_chain\n",
    "from langchain.prompts import PromptTemplate\n",
    "\n",
    "import validators"
   ]
  },
  {
   "cell_type": "code",
   "execution_count": 3,
   "metadata": {},
   "outputs": [],
   "source": [
    "import sys\n",
    "sys.path.insert(0, '../src')\n",
    "from config import PROMPTS\n",
    "from bloggenerator import BlogGenerator\n",
    "from googledocwritter import GoogleDocWritter"
   ]
  },
  {
   "cell_type": "code",
   "execution_count": 5,
   "metadata": {},
   "outputs": [],
   "source": [
    "webpage = 'https://www.benandfrank.com/'\n",
    "llm_summary = ChatOpenAI(model_name=\"gpt-3.5-turbo\", temperature=0.1)\n",
    "llm_blog = ChatOpenAI(model_name=\"gpt-3.5-turbo\", temperature=0.9)\n",
    "blog_topic = \"importancia de usar lentes obscuros\"\n",
    "blog_generator = BlogGenerator(\n",
    "    webpage, blog_topic,\n",
    "    llm_summary, llm_blog,\n",
    "    PROMPTS['summary'], PROMPTS['blog_post'],\n",
    "    PROMPTS['blog_post_no_summary']\n",
    ")"
   ]
  },
  {
   "cell_type": "code",
   "execution_count": 6,
   "metadata": {},
   "outputs": [
    {
     "name": "stdout",
     "output_type": "stream",
     "text": [
      "1 Retrieved the following content from webpage: \n",
      "\n",
      "\n",
      "\n",
      "\n",
      "\n",
      "\n",
      "\n",
      "ENVÍOS Y DEVOLUCIONES GRATIS A TODA LA REPÚBLICA\n",
      "\n",
      "hola@benandfrank.com\n",
      "\n",
      "Colecciones\n",
      "\n",
      "Examen de la vista\n",
      "\n",
      "Visítanos\n",
      "\n",
      "Mi cuenta\n",
      "\n",
      "Colecciones\n",
      "\n",
      "Examen de la vista\n",
      "\n",
      "Visítanos\n",
      "\n",
      "Rastrea tu pedido\n",
      "\n",
      "\n",
      "\n",
      "\n",
      "\n",
      "\n",
      "\n",
      "\n",
      "\n",
      "...\n",
      "\n",
      "...\n",
      "2 Webpage summary: La empresa Ben and Frank ofrece envíos y devoluciones gratuitas en toda la República. También ofrecen exámenes de la vista y tienen colecciones de productos. Además, se puede rastrear el pedido y visitar su sitio web para más información.\n"
     ]
    }
   ],
   "source": [
    "blog_content = blog_generator.generate_blog_post()"
   ]
  },
  {
   "cell_type": "code",
   "execution_count": 7,
   "metadata": {},
   "outputs": [
    {
     "data": {
      "text/plain": [
       "'# La importancia de usar lentes obscuros\\n\\nCuando pensamos en lentes, generalmente pensamos en aquellos que nos ayudan a corregir nuestra visión, pero ¿has pensado en los lentes obscuros? Quizás los uses solo como un accesorio para complementar nuestro atuendo, pero en realidad tienen una función muy importante para nuestra salud ocular. En esta entrada de blog, vamos a hablar sobre la importancia de usar lentes obscuros y cómo pueden proteger nuestros ojos de los rayos solares dañinos.\\n\\n## ¿Por qué es importante usar lentes obscuros?\\n\\nEl sol emite radiación ultravioleta (UV) que puede ser perjudicial para nuestra piel y nuestros ojos, y es por eso que es importante protegernos. Los lentes obscuros pueden reducir la cantidad de radiación UV que entra en nuestros ojos, lo que nos protege de varios tipos de problemas oculares. Algunos de estos problemas incluyen:\\n\\n### Cataratas\\n\\nLas cataratas son una opacidad del cristalino del ojo y son la principal causa de ceguera en todo el mundo. Aunque las cataratas pueden ser causadas por diversos factores, la exposición prolongada a la radiación UV es un factor importante en su desarrollo.\\n\\n### Pterigión\\n\\nEl pterigión es un crecimiento anormal del tejido en la superficie del ojo y puede ser causado por la exposición al sol, el viento y el polvo. En algunos casos, puede ser necesario realizar una cirugía para eliminarlo.\\n\\n### Degeneración macular relacionada con la edad (DMRE)\\n\\nLa DMRE es una lesión en la retina que puede causar una pérdida gradual de la visión central. La exposición a la radiación UV es un factor de riesgo para la DMRE.\\n\\n### Conjuntivitis fotoquímica\\n\\nLa conjuntivitis fotoquímica es una inflamación de la conjuntiva (la membrana que cubre el ojo y el interior del párpado) causada por la exposición a la radiación UV y la luz visible. Puede causar enrojecimiento, picazón, lagrimeo y sensación de tener arena en los ojos.\\n\\n## ¿Cómo elegir los lentes obscuros adecuados?\\n\\nNo todos los lentes obscuros son iguales, y algunos son más efectivos que otros para bloquear la radiación UV. Aquí te dejamos algunos consejos para elegir los lentes adecuados:\\n\\n### Busca etiquetas de protección UV\\n\\nAsegúrate de elegir lentes que tengan etiquetas como \"Protección 100% contra los rayos UV\" o \"UV400\". Esto significa que bloquean al menos el 99% de los rayos UVB y UVA.\\n\\n### Elige lentes polarizados\\n\\nLos lentes polarizados pueden reducir el deslumbramiento causado por la luz solar reflejada en superficies como el agua, el vidrio y la nieve. También pueden mejorar la claridad y el contraste.\\n\\n### Considera el color de los lentes\\n\\nEl color de los lentes no tiene nada que ver con su capacidad para bloquear la radiación UV. Sin embargo, pueden mejorar la claridad y el contraste en diferentes condiciones de luz. Por ejemplo, los lentes grises son ideales para condiciones de luz brillante, mientras que los lentes marrones son mejores para condiciones de luz media.\\n\\n## Beneficios adicionales de comprar en Ben and Frank\\n\\nLa empresa Ben and Frank ofrece una amplia colección de lentes obscuros de alta calidad con etiquetas de protección UV y lentes polarizados. Además, también ofrecen envíos y devoluciones gratuitas en toda la República, lo que hace que comprar lentes obscuros sea mucho más fácil. Pero eso no es todo, también ofrecen exámenes de la vista para garantizar que sus ojos estén en buen estado, y su sitio web es una fuente confiable de información sobre salud visual.\\n\\n## Conclusión\\n\\nLos lentes obscuros no solo son un accesorio de moda, sino que también son una herramienta importante para proteger nuestros ojos de la radiación UV dañina. Al elegir lentes con etiquetas de protección UV y lentes polarizados, podemos reducir nuestra exposición a estos rayos y prevenir una serie de problemas oculares. Si necesitas lentes obscuros de alta calidad, no dudes en visitar la empresa Ben and Frank y aprovechar sus excelentes beneficios. ¡Protege tus ojos, protege tu vista!'"
      ]
     },
     "execution_count": 7,
     "metadata": {},
     "output_type": "execute_result"
    }
   ],
   "source": [
    "blog_content"
   ]
  },
  {
   "attachments": {},
   "cell_type": "markdown",
   "metadata": {},
   "source": [
    "# Google Docs"
   ]
  },
  {
   "cell_type": "code",
   "execution_count": 35,
   "metadata": {},
   "outputs": [],
   "source": [
    "from pathlib import Path\n",
    "import os\n",
    "import json\n",
    "\n",
    "from markdown import markdown\n",
    "from pydrive2.auth import GoogleAuth\n",
    "from pydrive2.drive import GoogleDrive"
   ]
  },
  {
   "cell_type": "code",
   "execution_count": 36,
   "metadata": {},
   "outputs": [],
   "source": [
    "class AuthenticationError(Exception):\n",
    "    pass\n"
   ]
  },
  {
   "cell_type": "code",
   "execution_count": 45,
   "metadata": {},
   "outputs": [],
   "source": [
    "class GoogleDocWritter():\n",
    "    def __init__(self, webpage, blog_post, template, folder_id, path_to_google_creds=None):\n",
    "        if path_to_google_creds:\n",
    "            self.path_to_google_creds = path_to_google_creds\n",
    "        else:\n",
    "            self.path_to_google_creds = Path.cwd()#Path(__file__).parent.absolute()\n",
    "        self.webpage = webpage\n",
    "        self.blog_post = blog_post\n",
    "        self.template = template\n",
    "        self.folder_id = folder_id\n",
    "\n",
    "        self.gauth = None\n",
    "    \n",
    "    def write_creds(self):\n",
    "        \"\"\" Write service account credentials to disk based on environment variables.\"\"\"\n",
    "        credentials = {\n",
    "            \"type\": \"service_account\",\n",
    "            \"project_id\": os.getenv(\"GOOGLE_PROJECT_ID\"),\n",
    "            \"private_key_id\": os.getenv(\"GOOGLE_PRIVATE_KEY_ID\"),\n",
    "            \"private_key\": os.getenv(\"GOOGLE_PRIVATE_KEY\"),\n",
    "            \"client_email\": os.getenv(\"GOOGLE_CLIENT_EMAIL\"),\n",
    "            \"client_id\": os.getenv(\"GOOGLE_CLIENT_ID\"),\n",
    "            \"auth_uri\": \"https://accounts.google.com/o/oauth2/auth\",\n",
    "            \"token_uri\": \"https://oauth2.googleapis.com/token\",\n",
    "            \"auth_provider_x509_cert_url\": \"https://www.googleapis.com/oauth2/v1/certs\",\n",
    "            \"client_x509_cert_url\": os.getenv(\"GOOGLE_CLIENT_X509_CERT_URL\")\n",
    "        }\n",
    "        with open(os.path.join(self.path_to_google_creds, os.getenv(\"GOOGLE_CREDENTIALS_FILENAME\")), \"w+\") as f:\n",
    "            f.write(json.dumps(credentials))\n",
    "    \n",
    "    def authenticate(self):\n",
    "        secret_file_path = os.path.join(self.path_to_google_creds, os.getenv(\"GOOGLE_CREDENTIALS_FILENAME\"))\n",
    "        if not os.path.exists(secret_file_path):\n",
    "            ValueError('Can not find secret file in the provided path')\n",
    "\n",
    "        settings = {\n",
    "            \"client_config_backend\": \"service\",\n",
    "            \"service_config\": {\n",
    "                \"client_json_file_path\": secret_file_path,\n",
    "            }\n",
    "        }\n",
    "        \n",
    "        self.gauth = GoogleAuth(settings=settings)\n",
    "        self.gauth.ServiceAuth()\n",
    "    \n",
    "    def generate_html_post(self):\n",
    "        htmlpost = markdown(self.blog_post)\n",
    "        return self.template.format(blog_text=htmlpost)\n",
    "\n",
    "    def create_file(self, htmldoc):\n",
    "        if self.gauth:\n",
    "            drive = GoogleDrive(self.gauth)\n",
    "            gdoc = drive.CreateFile(\n",
    "                {\n",
    "                    'parents': [{'id': self.folder_id}],\n",
    "                    \"title\": f\"Demo - {self.webpage}\",\n",
    "                    \"mimeType\": \"application/vnd.openxmlformats-officedocument.wordprocessingml.document\"\n",
    "                }\n",
    "            )\n",
    "            gdoc.SetContentString(htmldoc)\n",
    "            gdoc.Upload()\n",
    "            return gdoc[\"alternateLink\"]\n",
    "        else:\n",
    "            raise AuthenticationError(\"Missing authentication\")\n",
    "    \n",
    "    def upload_blog_post(self):\n",
    "        self.write_creds()\n",
    "        self.authenticate()\n",
    "        htmldoc = self.generate_html_post()\n",
    "        doc_url = self.create_file(htmldoc)\n",
    "        return doc_url \n",
    "\n",
    "#TODO: Check blogpost size and ask llm to rate blog post\n",
    "        "
   ]
  },
  {
   "cell_type": "code",
   "execution_count": 46,
   "metadata": {},
   "outputs": [],
   "source": [
    "template = \"\"\"<h1></h1>\n",
    "<p> [Demo] </p>\n",
    "<p><em>¡Hola! Muchas gracias por tu interés en Blogggs. Este artículo es un ejemplo del trabajo \n",
    "que realizamos y una probadita del tipo de posts que podemos hacer para tu marca.</em></p>\n",
    "<br>\n",
    "<p><em>Tómalo como un regalo y siéntete libre de publicarlo en tu blog</em> 😉</p>\n",
    "<br>\n",
    "<hr>\n",
    "<br>\n",
    "{blog_text}\n",
    "<br>\n",
    "<hr>\n",
    "<br>\n",
    "<br>\n",
    "<p><strong>¿Te gustó lo que leíste y te gustaría que empezáramos a colaborar contigo?</strong></p>\n",
    "<br>\n",
    "<p><em>Puedes elegir el plan que más te acomode a través de <a href=\"http://www.blogggs.com/comenzar\">www.blogggs.com/comenzar</a>.</em></p>\n",
    "<p><em>Si tienes alguna duda antes de contratar, escríbenos a <a href=\"mailto:agustin@blogggs.com\">agustin@blogggs.com</a>.</em></p>\n",
    "<br>\n",
    "<p><em>¡Saludos y esperamos escuchar de ti muy pronto!</em></p>\n",
    "<br>\n",
    "<p><em>Si NO te gustó el contenido, agradeceríamos mucho tu feedback a través de <a href=\"https://forms.gle/R9FFLyKVEui5dCZG6\">esta liga</a>.</em></p>\"\"\"\n",
    "folder_id = '1bHUB2-YELFEl690aDzhs_zzOTYntAiTk'"
   ]
  },
  {
   "cell_type": "code",
   "execution_count": 47,
   "metadata": {},
   "outputs": [],
   "source": [
    "google_doc_writter = GoogleDocWritter(webpage, blog_content, template, folder_id)"
   ]
  },
  {
   "cell_type": "code",
   "execution_count": 48,
   "metadata": {},
   "outputs": [
    {
     "data": {
      "text/plain": [
       "'https://docs.google.com/document/d/16G-IX7O1bmcHxT0H4VcEySoSOcFGgX58/edit?usp=drivesdk&ouid=108083632963361298181&rtpof=true&sd=true'"
      ]
     },
     "execution_count": 48,
     "metadata": {},
     "output_type": "execute_result"
    }
   ],
   "source": [
    "google_doc_writter.upload_blog_post()"
   ]
  },
  {
   "cell_type": "code",
   "execution_count": 7,
   "metadata": {},
   "outputs": [],
   "source": [
    "import os\n",
    "def write_creds():\n",
    "    \"\"\" Write service account credentials to disk based on environment variables.\"\"\"\n",
    "    credentials = {\n",
    "        \"type\": \"service_account\",\n",
    "        \"project_id\": os.getenv(\"GOOGLE_PROJECT_ID\"),\n",
    "        \"private_key_id\": os.getenv(\"GOOGLE_PRIVATE_KEY_ID\"),\n",
    "        \"private_key\": os.getenv(\"GOOGLE_PRIVATE_KEY\"),\n",
    "        \"client_email\": os.getenv(\"GOOGLE_CLIENT_EMAIL\"),\n",
    "        \"client_id\": os.getenv(\"GOOGLE_CLIENT_ID\"),\n",
    "        \"auth_uri\": \"https://accounts.google.com/o/oauth2/auth\",\n",
    "        \"token_uri\": \"https://oauth2.googleapis.com/token\",\n",
    "        \"auth_provider_x509_cert_url\": \"https://www.googleapis.com/oauth2/v1/certs\",\n",
    "        \"client_x509_cert_url\": os.getenv(\"GOOGLE_CLIENT_X509_CERT_URL\")\n",
    "    }\n",
    "    with open(os.path.join(here(), os.getenv(\"GOOGLE_CREDENTIALS_FILENAME\")), \"w+\") as f:\n",
    "        f.write(json.dumps(credentials))"
   ]
  },
  {
   "cell_type": "code",
   "execution_count": 8,
   "metadata": {},
   "outputs": [],
   "source": [
    "from pyprojroot import here\n",
    "import json"
   ]
  },
  {
   "cell_type": "code",
   "execution_count": 114,
   "metadata": {},
   "outputs": [],
   "source": [
    "from pydrive2.auth import GoogleAuth\n",
    "from pydrive2.drive import GoogleDrive\n",
    "\n",
    "\n",
    "write_creds()\n",
    "\n",
    "secret_file = os.path.join(here(), os.getenv(\"GOOGLE_CREDENTIALS_FILENAME\"))\n",
    "\n",
    "settings = {\n",
    "    \"client_config_backend\": \"service\",\n",
    "    \"service_config\": {\n",
    "        \"client_json_file_path\": secret_file,\n",
    "    }\n",
    "}\n",
    "\n",
    "\n",
    "gauth = GoogleAuth(settings=settings)\n",
    "gauth.ServiceAuth()\n",
    "drive = GoogleDrive(gauth)"
   ]
  },
  {
   "cell_type": "code",
   "execution_count": 10,
   "metadata": {},
   "outputs": [],
   "source": [
    "from oauth2client.service_account import ServiceAccountCredentials"
   ]
  },
  {
   "cell_type": "code",
   "execution_count": 11,
   "metadata": {},
   "outputs": [],
   "source": [
    "gauth = GoogleAuth()\n",
    "scope = [\"https://www.googleapis.com/auth/drive\"]\n",
    "gauth.auth_method = 'service'\n",
    "gauth.credentials = ServiceAccountCredentials.from_json_keyfile_name(secret_file, scope)\n",
    "drive = GoogleDrive(gauth)"
   ]
  },
  {
   "cell_type": "code",
   "execution_count": 115,
   "metadata": {},
   "outputs": [],
   "source": [
    "template = \"\"\"<h1></h1>\n",
    "<p> [Demo] </p>\n",
    "<p><em>¡Hola! Muchas gracias por tu interés en Blogggs. Este artículo es un ejemplo del trabajo \n",
    "que realizamos y una probadita del tipo de posts que podemos hacer para tu marca.</em></p>\n",
    "<br>\n",
    "<p><em>Tómalo como un regalo y siéntete libre de publicarlo en tu blog</em> 😉</p>\n",
    "<br>\n",
    "<hr>\n",
    "<br>\n",
    "{blog_text}\n",
    "<br>\n",
    "<hr>\n",
    "<br>\n",
    "<br>\n",
    "<p><strong>¿Te gustó lo que leíste y te gustaría que empezáramos a colaborar contigo?</strong></p>\n",
    "<br>\n",
    "<p><em>Puedes elegir el plan que más te acomode a través de <a href=\"http://www.blogggs.com/comenzar\">www.blogggs.com/comenzar</a>.</em></p>\n",
    "<p><em>Si tienes alguna duda antes de contratar, escríbenos a <a href=\"mailto:agustin@blogggs.com\">agustin@blogggs.com</a>.</em></p>\n",
    "<br>\n",
    "<p><em>¡Saludos y esperamos escuchar de ti muy pronto!</em></p>\n",
    "<br>\n",
    "<p><em>Si NO te gustó el contenido, agradeceríamos mucho tu feedback a través de <a href=\"https://forms.gle/R9FFLyKVEui5dCZG6\">esta liga</a>.</em></p>\"\"\""
   ]
  },
  {
   "cell_type": "code",
   "execution_count": 106,
   "metadata": {},
   "outputs": [],
   "source": [
    "from markdown import markdown\n",
    "\n",
    "htmldoc = markdown(blog_content)"
   ]
  },
  {
   "cell_type": "code",
   "execution_count": 116,
   "metadata": {},
   "outputs": [],
   "source": [
    "htmldoc = template.format(blog_text=htmldoc)"
   ]
  },
  {
   "cell_type": "code",
   "execution_count": 117,
   "metadata": {},
   "outputs": [],
   "source": [
    "gdoc = drive.CreateFile(\n",
    "    {\n",
    "        'parents': [{'id': '1bHUB2-YELFEl690aDzhs_zzOTYntAiTk'}],\n",
    "        \"title\": f\"Demo - {webpage}\",\n",
    "        \"mimeType\": \"application/vnd.openxmlformats-officedocument.wordprocessingml.document\"\n",
    "    }\n",
    ")\n",
    "gdoc.SetContentString(htmldoc)\n",
    "gdoc.Upload()"
   ]
  },
  {
   "cell_type": "code",
   "execution_count": 118,
   "metadata": {},
   "outputs": [
    {
     "data": {
      "text/plain": [
       "'https://docs.google.com/document/d/1mz_hzFA8-r9MF2JZm1mKEoYuIYX818-q/edit?usp=drivesdk&ouid=108083632963361298181&rtpof=true&sd=true'"
      ]
     },
     "execution_count": 118,
     "metadata": {},
     "output_type": "execute_result"
    }
   ],
   "source": [
    "gdoc[\"alternateLink\"]"
   ]
  },
  {
   "cell_type": "code",
   "execution_count": 4,
   "metadata": {},
   "outputs": [],
   "source": [
    "from config import FOLDER_ID"
   ]
  },
  {
   "cell_type": "code",
   "execution_count": 5,
   "metadata": {},
   "outputs": [],
   "source": [
    "google_doc_writter = GoogleDocWritter(\n",
    "    webpage=\"test.com\", blog_post='# Testing',\n",
    "    template=\"\"\"<h1></h1><p>The name of the post is <\\p> <br> {blog_text}\"\"\",\n",
    "    folder_id=FOLDER_ID\n",
    "    )\n",
    "\n",
    "google_doc_writter.write_creds()\n",
    "google_doc_writter.authenticate()\n",
    "html_post = google_doc_writter.generate_html_post()\n",
    "doc_url = google_doc_writter.create_file(html_post)"
   ]
  },
  {
   "cell_type": "code",
   "execution_count": 6,
   "metadata": {},
   "outputs": [
    {
     "data": {
      "text/plain": [
       "'https://docs.google.com/document/d/1Pm2iouSfx9kF8HAvkMJLBbSqKks_npXh/edit?usp=drivesdk&ouid=108083632963361298181&rtpof=true&sd=true'"
      ]
     },
     "execution_count": 6,
     "metadata": {},
     "output_type": "execute_result"
    }
   ],
   "source": [
    "doc_url"
   ]
  },
  {
   "cell_type": "code",
   "execution_count": 7,
   "metadata": {},
   "outputs": [
    {
     "data": {
      "text/plain": [
       "<pydrive2.drive.GoogleDrive at 0x7fb485b80130>"
      ]
     },
     "execution_count": 7,
     "metadata": {},
     "output_type": "execute_result"
    }
   ],
   "source": [
    "google_doc_writter.drive"
   ]
  },
  {
   "cell_type": "code",
   "execution_count": 9,
   "metadata": {},
   "outputs": [],
   "source": [
    "file_list = google_doc_writter.drive.ListFile({'q': \"'root' in parents\"}).GetList()"
   ]
  },
  {
   "cell_type": "code",
   "execution_count": 15,
   "metadata": {},
   "outputs": [],
   "source": [
    "file_list = google_doc_writter.drive.ListFile(\n",
    "    {\n",
    "        \"q\": '\"{}\" in parents and title=\"{}\" and trashed=false'.format(\n",
    "            FOLDER_ID, 'Demo - test.com'\n",
    "        )\n",
    "    }\n",
    ").GetList()"
   ]
  },
  {
   "cell_type": "code",
   "execution_count": 16,
   "metadata": {},
   "outputs": [
    {
     "data": {
      "text/plain": [
       "[GoogleDriveFile({'kind': 'drive#file', 'userPermission': {'id': 'me', 'type': 'user', 'role': 'owner', 'kind': 'drive#permission', 'selfLink': 'https://www.googleapis.com/drive/v2/files/1Pm2iouSfx9kF8HAvkMJLBbSqKks_npXh/permissions/me', 'etag': '\"Qi--ihOn0xWvSs-dIFsu9zpQdPA\"', 'pendingOwner': False}, 'fileExtension': 'com', 'md5Checksum': '4efe6f04c7a233c39f0b60996c3ec5fd', 'selfLink': 'https://www.googleapis.com/drive/v2/files/1Pm2iouSfx9kF8HAvkMJLBbSqKks_npXh', 'ownerNames': ['blog-generation@blog-content-creation.iam.gserviceaccount.com'], 'lastModifyingUserName': 'blog-generation@blog-content-creation.iam.gserviceaccount.com', 'editable': True, 'writersCanShare': True, 'downloadUrl': 'https://www.googleapis.com/drive/v2/files/1Pm2iouSfx9kF8HAvkMJLBbSqKks_npXh?alt=media&source=downloadUrl', 'mimeType': 'application/vnd.openxmlformats-officedocument.wordprocessingml.document', 'parents': [{'selfLink': 'https://www.googleapis.com/drive/v2/files/1Pm2iouSfx9kF8HAvkMJLBbSqKks_npXh/parents/1bHUB2-YELFEl690aDzhs_zzOTYntAiTk', 'id': '1bHUB2-YELFEl690aDzhs_zzOTYntAiTk', 'isRoot': False, 'kind': 'drive#parentReference', 'parentLink': 'https://www.googleapis.com/drive/v2/files/1bHUB2-YELFEl690aDzhs_zzOTYntAiTk'}], 'thumbnailLink': 'https://lh4.googleusercontent.com/5-8Sr5nNovt1QHr5UV8ZoFYNgijxsjvSGpgILetsTkQ9CMNIwakBknAR2ag7beSQNzR3Pw3KaYyhVf0=s220', 'appDataContents': False, 'iconLink': 'https://drive-thirdparty.googleusercontent.com/16/type/application/vnd.openxmlformats-officedocument.wordprocessingml.document', 'shared': True, 'lastModifyingUser': {'displayName': 'blog-generation@blog-content-creation.iam.gserviceaccount.com', 'kind': 'drive#user', 'isAuthenticatedUser': True, 'permissionId': '17826579108139324386', 'emailAddress': 'blog-generation@blog-content-creation.iam.gserviceaccount.com', 'picture': {'url': 'https://lh3.googleusercontent.com/a/default-user=s64'}}, 'owners': [{'displayName': 'blog-generation@blog-content-creation.iam.gserviceaccount.com', 'kind': 'drive#user', 'isAuthenticatedUser': True, 'permissionId': '17826579108139324386', 'emailAddress': 'blog-generation@blog-content-creation.iam.gserviceaccount.com', 'picture': {'url': 'https://lh3.googleusercontent.com/a/default-user=s64'}}], 'headRevisionId': '0B7Fsq6y4LdL5UitqV0tJZmtRRFBwdnlyaFdNRjVZSkh1U3E4PQ', 'copyable': True, 'etag': '\"MTY4NjU5MjkyMjc5OQ\"', 'alternateLink': 'https://docs.google.com/document/d/1Pm2iouSfx9kF8HAvkMJLBbSqKks_npXh/edit?usp=drivesdk&ouid=108083632963361298181&rtpof=true&sd=true', 'embedLink': 'https://drive.google.com/file/d/1Pm2iouSfx9kF8HAvkMJLBbSqKks_npXh/preview?usp=drivesdk', 'webContentLink': 'https://drive.google.com/uc?id=1Pm2iouSfx9kF8HAvkMJLBbSqKks_npXh&export=download', 'fileSize': '62', 'copyRequiresWriterPermission': False, 'spaces': ['drive'], 'id': '1Pm2iouSfx9kF8HAvkMJLBbSqKks_npXh', 'title': 'Demo - test.com', 'labels': {'viewed': True, 'restricted': False, 'starred': False, 'hidden': False, 'trashed': False}, 'explicitlyTrashed': False, 'createdDate': '2023-06-12T18:02:02.799Z', 'modifiedDate': '2023-06-12T18:02:02.799Z', 'modifiedByMeDate': '2023-06-12T18:02:02.799Z', 'lastViewedByMeDate': '2023-06-12T18:02:02.799Z', 'markedViewedByMeDate': '1970-01-01T00:00:00.000Z', 'quotaBytesUsed': '62', 'version': '3', 'originalFilename': 'Demo - test.com', 'capabilities': {'canEdit': True, 'canCopy': True}}),\n",
       " GoogleDriveFile({'kind': 'drive#file', 'userPermission': {'id': 'me', 'type': 'user', 'role': 'owner', 'kind': 'drive#permission', 'selfLink': 'https://www.googleapis.com/drive/v2/files/1S3fNYdWVAEjNsnrP8E2Ww6GiWXi856sl/permissions/me', 'etag': '\"otH2j7hJjWBj0f11rrAxY_-pJos\"', 'pendingOwner': False}, 'fileExtension': 'com', 'md5Checksum': '4efe6f04c7a233c39f0b60996c3ec5fd', 'selfLink': 'https://www.googleapis.com/drive/v2/files/1S3fNYdWVAEjNsnrP8E2Ww6GiWXi856sl', 'ownerNames': ['blog-generation@blog-content-creation.iam.gserviceaccount.com'], 'lastModifyingUserName': 'blog-generation@blog-content-creation.iam.gserviceaccount.com', 'editable': True, 'writersCanShare': True, 'downloadUrl': 'https://www.googleapis.com/drive/v2/files/1S3fNYdWVAEjNsnrP8E2Ww6GiWXi856sl?alt=media&source=downloadUrl', 'mimeType': 'application/vnd.openxmlformats-officedocument.wordprocessingml.document', 'parents': [{'selfLink': 'https://www.googleapis.com/drive/v2/files/1S3fNYdWVAEjNsnrP8E2Ww6GiWXi856sl/parents/1bHUB2-YELFEl690aDzhs_zzOTYntAiTk', 'id': '1bHUB2-YELFEl690aDzhs_zzOTYntAiTk', 'isRoot': False, 'kind': 'drive#parentReference', 'parentLink': 'https://www.googleapis.com/drive/v2/files/1bHUB2-YELFEl690aDzhs_zzOTYntAiTk'}], 'thumbnailLink': 'https://lh4.googleusercontent.com/WtDXqIOY2V-ilbCaF-OZqA8jnMThcdrvB3Bj6MnSGIbePMlZVMat5It8KWua3LmYbasBB4rNOuJ_rX8=s220', 'appDataContents': False, 'iconLink': 'https://drive-thirdparty.googleusercontent.com/16/type/application/vnd.openxmlformats-officedocument.wordprocessingml.document', 'shared': True, 'lastModifyingUser': {'displayName': 'blog-generation@blog-content-creation.iam.gserviceaccount.com', 'kind': 'drive#user', 'isAuthenticatedUser': True, 'permissionId': '17826579108139324386', 'emailAddress': 'blog-generation@blog-content-creation.iam.gserviceaccount.com', 'picture': {'url': 'https://lh3.googleusercontent.com/a/default-user=s64'}}, 'owners': [{'displayName': 'blog-generation@blog-content-creation.iam.gserviceaccount.com', 'kind': 'drive#user', 'isAuthenticatedUser': True, 'permissionId': '17826579108139324386', 'emailAddress': 'blog-generation@blog-content-creation.iam.gserviceaccount.com', 'picture': {'url': 'https://lh3.googleusercontent.com/a/default-user=s64'}}], 'headRevisionId': '0B7Fsq6y4LdL5ekpDd21XcVU4dXp1cUhIeHZEb2ZnMjVOa3VnPQ', 'copyable': True, 'etag': '\"MTY4NjU5MjgxOTM1OA\"', 'alternateLink': 'https://docs.google.com/document/d/1S3fNYdWVAEjNsnrP8E2Ww6GiWXi856sl/edit?usp=drivesdk&ouid=108083632963361298181&rtpof=true&sd=true', 'embedLink': 'https://drive.google.com/file/d/1S3fNYdWVAEjNsnrP8E2Ww6GiWXi856sl/preview?usp=drivesdk', 'webContentLink': 'https://drive.google.com/uc?id=1S3fNYdWVAEjNsnrP8E2Ww6GiWXi856sl&export=download', 'fileSize': '62', 'copyRequiresWriterPermission': False, 'spaces': ['drive'], 'id': '1S3fNYdWVAEjNsnrP8E2Ww6GiWXi856sl', 'title': 'Demo - test.com', 'labels': {'viewed': True, 'restricted': False, 'starred': False, 'hidden': False, 'trashed': False}, 'explicitlyTrashed': False, 'createdDate': '2023-06-12T18:00:19.358Z', 'modifiedDate': '2023-06-12T18:00:19.358Z', 'modifiedByMeDate': '2023-06-12T18:00:19.358Z', 'lastViewedByMeDate': '2023-06-12T18:00:19.358Z', 'markedViewedByMeDate': '1970-01-01T00:00:00.000Z', 'quotaBytesUsed': '62', 'version': '3', 'originalFilename': 'Demo - test.com', 'capabilities': {'canEdit': True, 'canCopy': True}})]"
      ]
     },
     "execution_count": 16,
     "metadata": {},
     "output_type": "execute_result"
    }
   ],
   "source": [
    "file_list"
   ]
  },
  {
   "cell_type": "code",
   "execution_count": 17,
   "metadata": {},
   "outputs": [],
   "source": [
    "import pandas as pd"
   ]
  },
  {
   "cell_type": "code",
   "execution_count": 22,
   "metadata": {},
   "outputs": [
    {
     "name": "stdout",
     "output_type": "stream",
     "text": [
      "Cuidado y mantenimiento del calzado\n",
      "Moda para tallas extra y body positive\n",
      "Buenas, \n",
      " \n",
      "\n",
      " Somos una empresa de sustainable fashion basado en los cabos. Me gustaria concretar una llamada con ustedes y mis socios para ver si nos pueden ayudar en nuestro blog, sitio web, redes sociales, etc. Me pueden contactar por whatsapp!\n",
      " \n",
      "\n",
      " Lic. Asher Francis\n",
      "Consejos para comprar una casa\n",
      "Marketing digital\n",
      "Tedencias de fashion curvy\n",
      "10 básicos para un picnic exitoso\n",
      "Beneficios de tomar matcha y/o una receta de mstcha\n",
      "Cómo afectan la corrupción y la falta de rendición de cuentas a la desigualdad social\n"
     ]
    }
   ],
   "source": [
    "blog_post_info = pd.read_csv('../src/Demo Submissions Blogggs - Sheet1.csv')\n",
    "llm_summary = ChatOpenAI(model_name=\"gpt-3.5-turbo\", temperature=0.1)\n",
    "llm_blog = ChatOpenAI(model_name=\"gpt-3.5-turbo\", temperature=0.9)\n",
    "blog_post_info.rename(\n",
    "    columns={\n",
    "        'Tema del artículo': 'tema_articulo',\n",
    "        'Página web': 'pagina_web'\n",
    "        }, inplace=True)\n",
    "for row in blog_post_info.itertuples():\n",
    "    blog_generator = BlogGenerator(\n",
    "        row.pagina_web, row.tema_articulo,\n",
    "        llm_summary, llm_blog,\n",
    "        PROMPTS['summary'], PROMPTS['blog_post'],\n",
    "        PROMPTS['blog_post_no_summary']\n",
    "    )\n",
    "    "
   ]
  },
  {
   "cell_type": "code",
   "execution_count": null,
   "metadata": {},
   "outputs": [],
   "source": []
  }
 ],
 "metadata": {
  "kernelspec": {
   "display_name": "blog_gen",
   "language": "python",
   "name": "python3"
  },
  "language_info": {
   "codemirror_mode": {
    "name": "ipython",
    "version": 3
   },
   "file_extension": ".py",
   "mimetype": "text/x-python",
   "name": "python",
   "nbconvert_exporter": "python",
   "pygments_lexer": "ipython3",
   "version": "3.8.16"
  },
  "orig_nbformat": 4
 },
 "nbformat": 4,
 "nbformat_minor": 2
}
